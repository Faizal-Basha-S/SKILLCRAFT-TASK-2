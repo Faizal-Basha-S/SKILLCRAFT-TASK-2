{
  "nbformat": 4,
  "nbformat_minor": 0,
  "metadata": {
    "colab": {
      "provenance": [],
      "authorship_tag": "ABX9TyOGYvAOuNxfu66JxJKdK9XL",
      "include_colab_link": true
    },
    "kernelspec": {
      "name": "python3",
      "display_name": "Python 3"
    },
    "language_info": {
      "name": "python"
    }
  },
  "cells": [
    {
      "cell_type": "markdown",
      "metadata": {
        "id": "view-in-github",
        "colab_type": "text"
      },
      "source": [
        "<a href=\"https://colab.research.google.com/github/Faizal-Basha-S/SKILLCRAFT-TASK-2/blob/main/skillcraft_task_2.ipynb\" target=\"_parent\"><img src=\"https://colab.research.google.com/assets/colab-badge.svg\" alt=\"Open In Colab\"/></a>"
      ]
    },
    {
      "cell_type": "code",
      "execution_count": null,
      "metadata": {
        "id": "xAQM-CSTx3Z3"
      },
      "outputs": [],
      "source": [
        "import pandas as pd\n",
        "import matplotlib.pyplot as plt\n",
        "import seaborn as sns"
      ]
    },
    {
      "cell_type": "code",
      "source": [
        "# Define file path\n",
        "titanic_file = \"./gender_submission.csv\"\n",
        "# Read dataset\n",
        "df_titanic = pd.read_csv(titanic_file)"
      ],
      "metadata": {
        "id": "SVCGxqqX0P7t"
      },
      "execution_count": null,
      "outputs": []
    },
    {
      "cell_type": "code",
      "source": [
        "# Data Exploration for Titanic Dataset\n",
        "print(\"\\nTitanic Dataset Sample:\")\n",
        "print(df_titanic.head())\n",
        "print(df_titanic.info())"
      ],
      "metadata": {
        "colab": {
          "base_uri": "https://localhost:8080/"
        },
        "id": "KWDo3TF20UpR",
        "outputId": "255171b8-259d-4680-e55f-32358fe41281"
      },
      "execution_count": null,
      "outputs": [
        {
          "output_type": "stream",
          "name": "stdout",
          "text": [
            "\n",
            "Titanic Dataset Sample:\n",
            "   PassengerId  Survived\n",
            "0          892         0\n",
            "1          893         1\n",
            "2          894         0\n",
            "3          895         0\n",
            "4          896         1\n",
            "<class 'pandas.core.frame.DataFrame'>\n",
            "RangeIndex: 418 entries, 0 to 417\n",
            "Data columns (total 2 columns):\n",
            " #   Column       Non-Null Count  Dtype\n",
            "---  ------       --------------  -----\n",
            " 0   PassengerId  418 non-null    int64\n",
            " 1   Survived     418 non-null    int64\n",
            "dtypes: int64(2)\n",
            "memory usage: 6.7 KB\n",
            "None\n"
          ]
        }
      ]
    },
    {
      "cell_type": "code",
      "source": [
        "# Checking for missing values\n",
        "print(\"\\nMissing values in Titanic dataset:\")\n",
        "print(df_titanic.isnull().sum())# Dropping rows with missing values\n",
        "df_titanic_cleaned = df_titanic.dropna()\n"
      ],
      "metadata": {
        "colab": {
          "base_uri": "https://localhost:8080/"
        },
        "id": "4CtddTYy0nyW",
        "outputId": "3f7673f9-7637-449a-c210-e804e1baf39f"
      },
      "execution_count": null,
      "outputs": [
        {
          "output_type": "stream",
          "name": "stdout",
          "text": [
            "\n",
            "Missing values in Titanic dataset:\n",
            "PassengerId    0\n",
            "Survived       0\n",
            "dtype: int64\n"
          ]
        }
      ]
    },
    {
      "cell_type": "code",
      "source": [
        "# Visualization - Titanic Dataset\n",
        "plt.figure(figsize=(8, 5))\n",
        "sns.countplot(x='Survived', data=df_titanic_cleaned, palette='coolwarm')\n",
        "plt.xlabel(\"Survival\")\n",
        "plt.ylabel(\"Count\")\n",
        "plt.title(\"Titanic Survival Count\")\n",
        "plt.show()"
      ],
      "metadata": {
        "colab": {
          "base_uri": "https://localhost:8080/",
          "height": 594
        },
        "id": "-WWW7FJr01hw",
        "outputId": "dfafa1b4-4e73-4ee2-dab4-cc30d4fcf79f"
      },
      "execution_count": null,
      "outputs": [
        {
          "output_type": "stream",
          "name": "stderr",
          "text": [
            "<ipython-input-8-e31bb5a383e7>:3: FutureWarning: \n",
            "\n",
            "Passing `palette` without assigning `hue` is deprecated and will be removed in v0.14.0. Assign the `x` variable to `hue` and set `legend=False` for the same effect.\n",
            "\n",
            "  sns.countplot(x='Survived', data=df_titanic_cleaned, palette='coolwarm')\n"
          ]
        },
        {
          "output_type": "display_data",
          "data": {
            "text/plain": [
              "<Figure size 800x500 with 1 Axes>"
            ],
            "image/png": "[encoded data removed]"
          },
          "metadata": {}
        }
      ]
    },
    {
      "cell_type": "code",
      "source": [
        "# Save Cleaned Data for Further Analysis\n",
        "df_titanic_cleaned.to_csv(\"./titanic_cleaned.csv\", index=False)\n",
        "\n",
        "print(\"Data processing and visualization completed successfully.\")\n"
      ],
      "metadata": {
        "colab": {
          "base_uri": "https://localhost:8080/"
        },
        "id": "foUPnNbf1BX2",
        "outputId": "656e4eae-6187-49c9-97af-16595f6283e5"
      },
      "execution_count": null,
      "outputs": [
        {
          "output_type": "stream",
          "name": "stdout",
          "text": [
            "Data processing and visualization completed successfully.\n"
          ]
        }
      ]
    }
  ]
}